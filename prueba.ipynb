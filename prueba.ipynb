{
 "cells": [
  {
   "cell_type": "code",
   "execution_count": 1,
   "metadata": {},
   "outputs": [],
   "source": [
    "import pandas as pd\n",
    "from mlxtend.preprocessing import TransactionEncoder\n",
    "from mlxtend.frequent_patterns import apriori, association_rules"
   ]
  },
  {
   "cell_type": "code",
   "execution_count": 2,
   "metadata": {},
   "outputs": [],
   "source": [
    "\n",
    "# Ejemplo de datos: lista de libros\n",
    "data = [\n",
    "    {\"title\": \"Libro A\", \"author\": \"Autor 1\", \"genre\": [\"Fantasía\", \"Aventura\"]},\n",
    "    {\"title\": \"Libro B\", \"author\": \"Autor 2\", \"genre\": [\"Ciencia Ficción\"]},\n",
    "    {\"title\": \"Libro C\", \"author\": \"Autor 1\", \"genre\": [\"Fantasía\"]},\n",
    "    {\"title\": \"Libro D\", \"author\": \"Autor 3\", \"genre\": [\"Historia\", \"Biografía\"]},\n",
    "    {\"title\": \"Libro E\", \"author\": \"Autor 2\", \"genre\": [\"Ciencia Ficción\", \"Fantasía\"]},\n",
    "    {\"title\": \"Libro F\", \"author\": \"Autor 3\", \"genre\": [\"Historia\"]},\n",
    "]"
   ]
  },
  {
   "cell_type": "code",
   "execution_count": 3,
   "metadata": {},
   "outputs": [],
   "source": [
    "# Crear transacciones combinando autor y géneros\n",
    "transactions = []\n",
    "for book in data:\n",
    "    transactions.append([book[\"author\"]] + book[\"genre\"])"
   ]
  },
  {
   "cell_type": "code",
   "execution_count": 4,
   "metadata": {},
   "outputs": [
    {
     "name": "stdout",
     "output_type": "stream",
     "text": [
      "    support                    itemsets\n",
      "0  0.333333                   (Autor 1)\n",
      "1  0.333333                   (Autor 2)\n",
      "2  0.333333                   (Autor 3)\n",
      "3  0.333333           (Ciencia Ficción)\n",
      "4  0.500000                  (Fantasía)\n",
      "5  0.333333                  (Historia)\n",
      "6  0.333333         (Fantasía, Autor 1)\n",
      "7  0.333333  (Autor 2, Ciencia Ficción)\n",
      "8  0.333333         (Autor 3, Historia)\n",
      "         antecedents        consequents  antecedent support  \\\n",
      "0         (Fantasía)          (Autor 1)            0.500000   \n",
      "1          (Autor 1)         (Fantasía)            0.333333   \n",
      "2          (Autor 2)  (Ciencia Ficción)            0.333333   \n",
      "3  (Ciencia Ficción)          (Autor 2)            0.333333   \n",
      "4          (Autor 3)         (Historia)            0.333333   \n",
      "5         (Historia)          (Autor 3)            0.333333   \n",
      "\n",
      "   consequent support   support  confidence  lift  leverage  conviction  \\\n",
      "0            0.333333  0.333333    0.666667   2.0  0.166667         2.0   \n",
      "1            0.500000  0.333333    1.000000   2.0  0.166667         inf   \n",
      "2            0.333333  0.333333    1.000000   3.0  0.222222         inf   \n",
      "3            0.333333  0.333333    1.000000   3.0  0.222222         inf   \n",
      "4            0.333333  0.333333    1.000000   3.0  0.222222         inf   \n",
      "5            0.333333  0.333333    1.000000   3.0  0.222222         inf   \n",
      "\n",
      "   zhangs_metric  \n",
      "0           1.00  \n",
      "1           0.75  \n",
      "2           1.00  \n",
      "3           1.00  \n",
      "4           1.00  \n",
      "5           1.00  \n"
     ]
    }
   ],
   "source": [
    "# Codificación de las transacciones para el formato adecuado\n",
    "te = TransactionEncoder()\n",
    "te_ary = te.fit(transactions).transform(transactions)\n",
    "df = pd.DataFrame(te_ary, columns=te.columns_)\n",
    "\n",
    "# Aplicar el algoritmo Apriori\n",
    "frequent_itemsets = apriori(df, min_support=0.2, use_colnames=True)\n",
    "\n",
    "# Generar reglas de asociación\n",
    "rules = association_rules(frequent_itemsets, metric=\"confidence\", min_threshold=0.5)\n",
    "\n",
    "# print(frequent_itemsets)\n",
    "print(rules)"
   ]
  }
 ],
 "metadata": {
  "kernelspec": {
   "display_name": "venv",
   "language": "python",
   "name": "python3"
  },
  "language_info": {
   "codemirror_mode": {
    "name": "ipython",
    "version": 3
   },
   "file_extension": ".py",
   "mimetype": "text/x-python",
   "name": "python",
   "nbconvert_exporter": "python",
   "pygments_lexer": "ipython3",
   "version": "3.12.3"
  }
 },
 "nbformat": 4,
 "nbformat_minor": 2
}
