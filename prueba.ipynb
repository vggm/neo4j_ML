{
 "cells": [
  {
   "cell_type": "code",
   "execution_count": 1,
   "metadata": {},
   "outputs": [],
   "source": [
    "import pandas as pd\n",
    "from mlxtend.preprocessing import TransactionEncoder\n",
    "from mlxtend.frequent_patterns import apriori, association_rules"
   ]
  },
  {
   "cell_type": "code",
   "execution_count": 2,
   "metadata": {},
   "outputs": [],
   "source": [
    "\n",
    "# Ejemplo de datos: lista de libros\n",
    "data = [\n",
    "    {\"title\": \"Libro A\", \"author\": \"Autor 1\", \"genre\": [\"Fantasía\", \"Aventura\"]},\n",
    "    {\"title\": \"Libro B\", \"author\": \"Autor 2\", \"genre\": [\"Ciencia Ficción\"]},\n",
    "    {\"title\": \"Libro C\", \"author\": \"Autor 1\", \"genre\": [\"Fantasía\"]},\n",
    "    {\"title\": \"Libro D\", \"author\": \"Autor 3\", \"genre\": [\"Historia\", \"Biografía\"]},\n",
    "    {\"title\": \"Libro E\", \"author\": \"Autor 2\", \"genre\": [\"Ciencia Ficción\", \"Fantasía\"]},\n",
    "    {\"title\": \"Libro F\", \"author\": \"Autor 3\", \"genre\": [\"Historia\"]},\n",
    "]"
   ]
  },
  {
   "cell_type": "code",
   "execution_count": 7,
   "metadata": {},
   "outputs": [
    {
     "data": {
      "text/plain": [
       "[['Autor 1', 'Fantasía', 'Aventura'],\n",
       " ['Autor 2', 'Ciencia Ficción'],\n",
       " ['Autor 1', 'Fantasía'],\n",
       " ['Autor 3', 'Historia', 'Biografía'],\n",
       " ['Autor 2', 'Ciencia Ficción', 'Fantasía'],\n",
       " ['Autor 3', 'Historia']]"
      ]
     },
     "execution_count": 7,
     "metadata": {},
     "output_type": "execute_result"
    }
   ],
   "source": [
    "# Crear transacciones combinando autor y géneros\n",
    "transactions = []\n",
    "for book in data:\n",
    "    transactions.append([book[\"author\"]] + book[\"genre\"])\n",
    "transactions"
   ]
  },
  {
   "cell_type": "code",
   "execution_count": 6,
   "metadata": {},
   "outputs": [
    {
     "name": "stdout",
     "output_type": "stream",
     "text": [
      "         antecedents        consequents   support  confidence  lift\n",
      "1          (Autor 1)         (Fantasía)  0.333333    1.000000   2.0\n",
      "2          (Autor 2)  (Ciencia Ficción)  0.333333    1.000000   3.0\n",
      "3  (Ciencia Ficción)          (Autor 2)  0.333333    1.000000   3.0\n",
      "4          (Autor 3)         (Historia)  0.333333    1.000000   3.0\n",
      "5         (Historia)          (Autor 3)  0.333333    1.000000   3.0\n",
      "0         (Fantasía)          (Autor 1)  0.333333    0.666667   2.0\n"
     ]
    }
   ],
   "source": [
    "# Codificación de las transacciones para el formato adecuado\n",
    "te = TransactionEncoder()\n",
    "te_ary = te.fit(transactions).transform(transactions)\n",
    "df = pd.DataFrame(te_ary, columns=te.columns_)\n",
    "\n",
    "# Aplicar el algoritmo Apriori\n",
    "frequent_itemsets = apriori(df, min_support=0.2, use_colnames=True)\n",
    "\n",
    "# Generar reglas de asociación\n",
    "rules = association_rules(frequent_itemsets, metric=\"confidence\", min_threshold=0.5)\n",
    "\n",
    "# print(frequent_itemsets)\n",
    "print(rules[['antecedents', 'consequents', 'support', 'confidence', 'lift']].sort_values(\"confidence\", ascending=False))"
   ]
  }
 ],
 "metadata": {
  "kernelspec": {
   "display_name": "venv",
   "language": "python",
   "name": "python3"
  },
  "language_info": {
   "codemirror_mode": {
    "name": "ipython",
    "version": 3
   },
   "file_extension": ".py",
   "mimetype": "text/x-python",
   "name": "python",
   "nbconvert_exporter": "python",
   "pygments_lexer": "ipython3",
   "version": "3.12.3"
  }
 },
 "nbformat": 4,
 "nbformat_minor": 2
}
